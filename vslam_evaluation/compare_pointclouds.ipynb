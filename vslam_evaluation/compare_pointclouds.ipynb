{
 "cells": [
  {
   "cell_type": "code",
   "execution_count": 1,
   "metadata": {},
   "outputs": [],
   "source": [
    "import numpy as np\n",
    "import matplotlib.pyplot as plt\n",
    "from mpl_toolkits.mplot3d import Axes3D\n",
    "import h5py\n",
    "import transformations as tf\n",
    "%matplotlib inline"
   ]
  },
  {
   "cell_type": "code",
   "execution_count": 2,
   "metadata": {},
   "outputs": [
    {
     "name": "stdout",
     "output_type": "stream",
     "text": [
      "(308, 76800, 3)\n"
     ]
    }
   ],
   "source": [
    "file = h5py.File('pointcloud.hdf5', 'r')\n",
    "gt_points = file['points']\n",
    "gt_positions = np.array(file['positions'])\n",
    "gt_rotations = np.array(file['rotations'])\n",
    "gt_times = np.array(file['timestamps'])\n",
    "rgbs = np.array(file['rgb'])\n",
    "depths = np.array(file['depth'])\n",
    "print(gt_points.shape)"
   ]
  },
  {
   "cell_type": "code",
   "execution_count": 3,
   "metadata": {},
   "outputs": [],
   "source": [
    "slam_points = np.loadtxt('/home/kirill/catkin_ws/points_rtk.txt')\n",
    "slam_positions = np.loadtxt('/home/kirill/catkin_ws/positions_rtk.txt')\n",
    "slam_rotations = np.loadtxt('/home/kirill/catkin_ws/rotations_rtk.txt')\n",
    "slam_times = np.loadtxt('/home/kirill/catkin_ws/timestamps_rtk.txt')"
   ]
  },
  {
   "cell_type": "code",
   "execution_count": 4,
   "metadata": {},
   "outputs": [],
   "source": [
    "def get_local_pointcloud(rgb, depth, fov=90):\n",
    "    fov = fov / (180 / np.pi)\n",
    "    H, W, _ = rgb.shape\n",
    "    idx_h = np.tile(np.arange(H), W).reshape((W, H)).T - H / 2\n",
    "    idx_w = np.tile(np.arange(W), H).reshape((H, W)) - W / 2\n",
    "    idx_h /= (W / 2 * np.tan(fov / 2))\n",
    "    idx_w /= (W / 2 * np.tan(fov / 2))\n",
    "    points = np.array([idx_w, np.ones((H, W)), idx_h])\n",
    "    points = np.transpose(points, [1, 2, 0])\n",
    "    points_dist = np.sqrt(np.sum(points ** 2, axis=2))\n",
    "    points = points * depth * 10.0\n",
    "    points = np.array([points[:, :, 0].ravel(), points[:, :, 1].ravel(), points[:, :, 2].ravel()]).T\n",
    "    return points"
   ]
  },
  {
   "cell_type": "code",
   "execution_count": 5,
   "metadata": {},
   "outputs": [],
   "source": [
    "def transform(points, position, rotation):\n",
    "    points_hg_coords = np.hstack((points, np.ones((len(points), 1))))\n",
    "    points_rotated_hg_coords = points_hg_coords @ rotation.T\n",
    "    points_rotated_hg_coords /= points_rotated_hg_coords[:, -1:]\n",
    "    points_rotated = points_rotated_hg_coords[:, :-1]\n",
    "    x, y, z = position\n",
    "    points_transformed = points_rotated + np.array([x, y, z])\n",
    "    return points"
   ]
  },
  {
   "cell_type": "code",
   "execution_count": 6,
   "metadata": {},
   "outputs": [],
   "source": [
    "def draw_points(points):\n",
    "    fig = plt.figure(figsize=(15,8))\n",
    "    ax = fig.add_subplot(111, projection='3d')\n",
    "    ax.scatter(points[:, 0], points[:, 1], points[:, 2], alpha=0.1)"
   ]
  },
  {
   "cell_type": "code",
   "execution_count": 7,
   "metadata": {},
   "outputs": [],
   "source": [
    "from tqdm.notebook import tqdm"
   ]
  },
  {
   "cell_type": "code",
   "execution_count": 8,
   "metadata": {},
   "outputs": [],
   "source": [
    "fov = np.pi / 2\n",
    "hor_fov = np.tan(fov / 2)\n",
    "vert_fov = np.tan(fov / 2 * 240 / 320)"
   ]
  },
  {
   "cell_type": "code",
   "execution_count": 9,
   "metadata": {},
   "outputs": [
    {
     "data": {
      "text/plain": [
       "array([[0, 0],\n",
       "       [1, 1]])"
      ]
     },
     "execution_count": 9,
     "metadata": {},
     "output_type": "execute_result"
    }
   ],
   "source": [
    "np.argsort([(1, 2), (3, 4)], axis=0)"
   ]
  },
  {
   "cell_type": "code",
   "execution_count": 25,
   "metadata": {},
   "outputs": [],
   "source": [
    "import octomap\n",
    "tree = octomap.OcTree(0.05)\n",
    "tree.insertPointCloud(slam_points, np.array((0, 0, 0), dtype=np.double))"
   ]
  },
  {
   "cell_type": "code",
   "execution_count": 35,
   "metadata": {},
   "outputs": [],
   "source": [
    "octree_coords = [x.getCoordinate() for x in tree.begin_tree() if x.isLeaf() and tree.isNodeOccupied(x)]"
   ]
  },
  {
   "cell_type": "code",
   "execution_count": 17,
   "metadata": {},
   "outputs": [
    {
     "data": {
      "application/vnd.jupyter.widget-view+json": {
       "model_id": "f30a87f5a2284b13a4fa13545b7a7075",
       "version_major": 2,
       "version_minor": 0
      },
      "text/plain": [
       "HBox(children=(IntProgress(value=0, max=84), HTML(value='')))"
      ]
     },
     "metadata": {},
     "output_type": "display_data"
    },
    {
     "name": "stdout",
     "output_type": "stream",
     "text": [
      "\n"
     ]
    }
   ],
   "source": [
    "for i in tqdm(range(len(slam_positions))):\n",
    "    points_translated = slam_points - slam_positions[i]\n",
    "    x, y, z = tf.euler_from_quaternion(slam_rotations[i], axes='xyzs')\n",
    "    points_transformed = points_translated.copy()\n",
    "    points_transformed[:, 0] = points_translated[:, 0] * np.cos(-z) + points_translated[:, 1] * np.sin(-z)\n",
    "    points_transformed[:, 1] = -points_translated[:, 0] * np.sin(-z) + points_translated[:, 1] * np.cos(-z)\n",
    "    points_projected = points_transformed / np.abs(points_transformed[:, :1])\n",
    "    ids_in_fov = np.logical_and(np.abs(points_projected[:, 1]) < hor_fov, \n",
    "                                   np.abs(points_projected[:, 2]) < vert_fov)\n",
    "    points_transformed = points_transformed[ids_in_fov]\n",
    "    points_in_fov = points_projected[ids_in_fov]\n",
    "    points_in_fov[:, 1] = np.round(points_in_fov[:, 1] * 160) / 160\n",
    "    points_in_fov[:, 2] = np.round(points_in_fov[:, 2] * 160) / 160\n",
    "    dst = np.sqrt(points_transformed[:, 0] ** 2 + points_transformed[:, 1] ** 2 + points_transformed[:, 2] ** 2)\n",
    "    points_in_fov_expanded = np.hstack([points_in_fov,\n",
    "                                        dst[:, np.newaxis],\n",
    "                                        np.arange(len(points_in_fov), dtype=np.int32)[:, np.newaxis]])\n",
    "    points_as_list = [tuple(x) for x in points_in_fov_expanded]\n",
    "    points_as_list.sort()\n",
    "    nearest_ids = []\n",
    "    for i in range(len(points_as_list)):\n",
    "        if i == 0 or points_as_list[i - 1][:3] != points_as_list[i][:3]:\n",
    "            nearest_ids.append(int(points_as_list[i][-1]))\n",
    "    points_in_fov = points_in_fov[nearest_ids]\n",
    "    points_transformed = points_transformed[nearest_ids, :]"
   ]
  },
  {
   "cell_type": "code",
   "execution_count": 18,
   "metadata": {},
   "outputs": [
    {
     "data": {
      "text/plain": [
       "<matplotlib.collections.PathCollection at 0x7f3d12ec9668>"
      ]
     },
     "execution_count": 18,
     "metadata": {},
     "output_type": "execute_result"
    },
    {
     "data": {
      "image/png": "[encoded data removed]",
      "text/plain": [
       "<Figure size 432x288 with 1 Axes>"
      ]
     },
     "metadata": {
      "needs_background": "light"
     },
     "output_type": "display_data"
    }
   ],
   "source": [
    "plt.scatter(points_transformed[:, 0], points_transformed[:, 1])"
   ]
  },
  {
   "cell_type": "code",
   "execution_count": 11,
   "metadata": {},
   "outputs": [],
   "source": [
    "a = np.ones((100, 3))"
   ]
  },
  {
   "cell_type": "code",
   "execution_count": 12,
   "metadata": {},
   "outputs": [
    {
     "data": {
      "text/plain": [
       "array([[1., 1., 1.],\n",
       "       [1., 1., 1.],\n",
       "       [1., 1., 1.]])"
      ]
     },
     "execution_count": 12,
     "metadata": {},
     "output_type": "execute_result"
    }
   ],
   "source": [
    "a[[0, 2, 4], :]"
   ]
  },
  {
   "cell_type": "code",
   "execution_count": 13,
   "metadata": {},
   "outputs": [
    {
     "data": {
      "text/plain": [
       "(11398, 3)"
      ]
     },
     "execution_count": 13,
     "metadata": {},
     "output_type": "execute_result"
    }
   ],
   "source": [
    "points_transformed.shape"
   ]
  }
 ],
 "metadata": {
  "kernelspec": {
   "display_name": "Habitat",
   "language": "python",
   "name": "habitat"
  },
  "language_info": {
   "codemirror_mode": {
    "name": "ipython",
    "version": 3
   },
   "file_extension": ".py",
   "mimetype": "text/x-python",
   "name": "python",
   "nbconvert_exporter": "python",
   "pygments_lexer": "ipython3",
   "version": "3.6.9"
  }
 },
 "nbformat": 4,
 "nbformat_minor": 2
}
