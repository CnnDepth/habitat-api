{
 "cells": [
  {
   "cell_type": "code",
   "execution_count": 42,
   "metadata": {},
   "outputs": [],
   "source": [
    "import numpy as np\n",
    "import matplotlib.pyplot as plt\n",
    "%matplotlib inline\n",
    "import transformations as tf"
   ]
  },
  {
   "cell_type": "code",
   "execution_count": 48,
   "metadata": {},
   "outputs": [],
   "source": [
    "gt_positions = np.loadtxt('rtabmap_kinect/gt_positions.txt')\n",
    "gt_rotations = np.loadtxt('rtabmap_kinect/gt_rotations.txt')\n",
    "gt_timestamps = np.loadtxt('rtabmap_kinect/gt_times.txt')\n",
    "slam_positions = np.loadtxt('rtabmap_kinect/slam_positions.txt')\n",
    "slam_rotations = np.loadtxt('rtabmap_kinect/slam_rotations.txt')\n",
    "slam_timestamps = np.loadtxt('rtabmap_kinect/slam_times.txt')\n",
    "gt_positions = gt_positions[:-1]\n",
    "gt_rotations = gt_rotations[:-1]\n",
    "gt_timestamps = gt_timestamps[:-1]"
   ]
  },
  {
   "cell_type": "code",
   "execution_count": 49,
   "metadata": {},
   "outputs": [
    {
     "name": "stdout",
     "output_type": "stream",
     "text": [
      "(596, 3) (596, 4) (596,)\n"
     ]
    }
   ],
   "source": [
    "print(gt_positions.shape, gt_rotations.shape, gt_timestamps.shape)"
   ]
  },
  {
   "cell_type": "code",
   "execution_count": 55,
   "metadata": {},
   "outputs": [
    {
     "data": {
      "text/plain": [
       "[<matplotlib.lines.Line2D at 0x7f325d2775d0>]"
      ]
     },
     "execution_count": 55,
     "metadata": {},
     "output_type": "execute_result"
    },
    {
     "data": {
      "image/png": "[encoded data removed]",
      "text/plain": [
       "<Figure size 432x288 with 1 Axes>"
      ]
     },
     "metadata": {
      "needs_background": "light"
     },
     "output_type": "display_data"
    }
   ],
   "source": [
    "plt.plot(gt_timestamps - gt_timestamps[0], gt_positions[:, 0], color='r')\n",
    "plt.plot(slam_timestamps - slam_timestamps[0], slam_positions[:, 0], color='g')"
   ]
  },
  {
   "cell_type": "code",
   "execution_count": 70,
   "metadata": {
    "scrolled": true
   },
   "outputs": [
    {
     "name": "stdout",
     "output_type": "stream",
     "text": [
      "0.0623784065246582 0.06633758544921875\n",
      "0.9403177113283496\n",
      "[0. 0. 0.]\n",
      "[0. 0. 0.]\n",
      "[0. 0. 0.]\n",
      "\n",
      "0.055829524993896484 0.0574183464050293\n",
      "0.9723290287754848\n",
      "[0. 0. 0.]\n",
      "[0. 0. 0.]\n",
      "[0. 0. 0.]\n",
      "\n",
      "0.06998205184936523 0.07952761650085449\n",
      "0.8799716994990452\n",
      "[0. 0. 0.]\n",
      "[0. 0. 0.]\n",
      "[0. 0. 0.]\n",
      "\n",
      "0.05625414848327637 0.05811166763305664\n",
      "0.9680353494325874\n",
      "[0. 0. 0.]\n",
      "[2.99997e-02 7.34782e-18 0.00000e+00]\n",
      "[2.90407701e-02 7.11294950e-18 0.00000000e+00]\n",
      "\n",
      "0.06834602355957031 0.07602787017822266\n",
      "0.8989601234304637\n",
      "[1.19999e-01 2.93913e-17 0.00000e+00]\n",
      "[1.49999e-01 3.67391e-17 0.00000e+00]\n",
      "[1.46967804e-01 3.59966792e-17 0.00000000e+00]\n",
      "\n",
      "0.06867218017578125 0.07541608810424805\n",
      "0.9105773304080071\n",
      "[2.39998e-01 5.87825e-17 0.00000e+00]\n",
      "[2.69998e-01 6.61303e-17 0.00000e+00]\n",
      "[2.67315320e-01 6.54732401e-17 0.00000000e+00]\n",
      "\n",
      "0.06858634948730469 0.0762183666229248\n",
      "0.8998664301823994\n",
      "[3.59997e-01 8.81738e-17 0.00000e+00]\n",
      "[3.89997e-01 9.55216e-17 0.00000e+00]\n",
      "[3.86992993e-01 9.47858386e-17 0.00000000e+00]\n",
      "\n",
      "0.06813526153564453 0.07706499099731445\n",
      "0.8841272885896905\n",
      "[4.79996e-01 1.17565e-16 0.00000e+00]\n",
      "[5.09995e-01 1.24913e-16 0.00000e+00]\n",
      "[5.06518935e-01 1.24061567e-16 0.00000000e+00]\n",
      "\n",
      "0.06013917922973633 0.061829566955566406\n",
      "0.9726605278176237\n",
      "[6.29994e-01 1.54304e-16 0.00000e+00]\n",
      "[6.59994e-01 1.61652e-16 0.00000e+00]\n",
      "[6.59173816e-01 1.61451110e-16 0.00000000e+00]\n",
      "\n",
      "0.05800676345825195 0.05979347229003906\n",
      "0.9701186640722193\n",
      "[7.79993e-01 1.91043e-16 0.00000e+00]\n",
      "[8.09993e-01 1.98391e-16 0.00000e+00]\n",
      "[8.09096560e-01 1.98171432e-16 0.00000000e+00]\n",
      "\n",
      "0.055524349212646484 0.057283878326416016\n",
      "0.9692840435184338\n",
      "[8.99992e-01 2.20434e-16 0.00000e+00]\n",
      "[9.29992e-01 2.27782e-16 0.00000e+00]\n",
      "[9.29070521e-01 2.27556299e-16 0.00000000e+00]\n",
      "\n",
      "0.055457353591918945 0.05737566947937012\n",
      "0.9665656905643443\n",
      "[1.01999e+00 2.49826e-16 0.00000e+00]\n",
      "[1.04999e+00 2.57174e-16 0.00000e+00]\n",
      "[1.04898697e+00 2.56928325e-16 0.00000000e+00]\n",
      "\n",
      "0.05526471138000488 0.05711650848388672\n",
      "0.9675786011253777\n",
      "[1.13999e+00 2.79217e-16 0.00000e+00]\n",
      "[ 1.16999e+00  2.86565e-16 -1.10346e-02]\n",
      "[ 1.16901736e+00  2.86326768e-16 -1.06768428e-02]\n",
      "\n",
      "0.05565285682678223 0.05728483200073242\n",
      "0.9715112165480501\n",
      "[ 1.25999e+00  3.08608e-16 -6.89796e-02]\n",
      "[ 1.28999e+00  3.15956e-16 -8.36733e-02]\n",
      "[ 1.28913534e+00  3.15746664e-16 -8.32546944e-02]\n",
      "\n",
      "0.05852174758911133 0.06036067008972168\n",
      "0.9695344253488749\n",
      "[ 1.37999e+00  3.38000e-16 -1.27755e-01]\n",
      "[ 1.40999e+00  3.45347e-16 -1.42448e-01]\n",
      "[ 1.40907603e+00  3.45123169e-16 -1.42000369e-01]\n",
      "\n",
      "0.05526900291442871 0.05690765380859375\n",
      "0.9712050878133798\n",
      "[ 1.49999e+00  3.67391e-16 -1.86529e-01]\n",
      "[ 1.52999e+00  3.74739e-16 -2.01223e-01]\n",
      "[ 1.52912615e+00  3.74527415e-16 -2.00799888e-01]\n",
      "\n",
      "0.055307626724243164 0.05683469772338867\n",
      "0.9731313605893063\n",
      "[ 1.61999e+00  3.96782e-16 -2.45304e-01]\n",
      "[ 1.64999e+00  4.04130e-16 -2.59998e-01]\n",
      "[ 1.64918394e+00  4.03932569e-16 -2.59603192e-01]\n",
      "\n",
      "0.06180262565612793 0.06358671188354492\n",
      "0.9719424676230399\n",
      "[ 1.76998e+00  4.33521e-16 -3.18773e-01]\n",
      "[ 1.79998e+00  4.40869e-16 -3.33467e-01]\n",
      "[ 1.79913827e+00  4.40662833e-16 -3.33054723e-01]\n",
      "\n",
      "0.06387615203857422 0.06905364990234375\n",
      "0.9250220970058557\n",
      "[ 1.88998e+00  4.62912e-16 -3.67755e-01]\n",
      "[ 1.91998e+00  4.70260e-16 -3.78925e-01]\n",
      "[ 1.91773066e+00  4.69709062e-16 -3.78087497e-01]\n",
      "\n",
      "0.0555572509765625 0.057356834411621094\n",
      "0.9686247776133549\n",
      "[ 2.00998e+00  4.92304e-16 -4.04145e-01]\n",
      "[ 2.03998e+00  4.99651e-16 -4.07869e-01]\n",
      "[ 2.03903874e+00  4.99420486e-16 -4.07752159e-01]\n",
      "\n",
      "0.05823230743408203 0.059999704360961914\n",
      "0.9705432394091958\n",
      "[ 2.15998e+00  5.29043e-16 -4.22763e-01]\n",
      "[ 2.18998e+00  5.36391e-16 -4.26486e-01]\n",
      "[ 2.18909630e+00  5.36174552e-16 -4.26376332e-01]\n",
      "\n",
      "0.05573844909667969 0.057462453842163086\n",
      "0.9699977179843579\n",
      "[ 2.27998e+00  5.58435e-16 -4.37657e-01]\n",
      "[ 2.30998e+00  5.65783e-16 -4.41380e-01]\n",
      "[ 2.30907993e+00  5.65562543e-16 -4.41268302e-01]\n",
      "\n",
      "0.07065176963806152 0.07612919807434082\n",
      "0.9280508848795368\n",
      "[ 2.39998e+00  5.87827e-16 -4.52551e-01]\n",
      "[ 2.42998e+00  5.95174e-16 -4.56274e-01]\n",
      "[ 2.42782153e+00  5.94645390e-16 -4.56006133e-01]\n",
      "\n",
      "0.06830716133117676 0.07755112648010254\n",
      "0.8808016650628856\n",
      "[ 2.51998e+00  6.17218e-16 -4.63963e-01]\n",
      "[ 2.54998e+00  6.24566e-16 -4.66138e-01]\n",
      "[ 2.54640405e+00  6.23690131e-16 -4.65878744e-01]\n",
      "\n",
      "0.05671191215515137 0.05876922607421875\n",
      "0.9649933467480203\n",
      "[ 2.63999e+00  6.46610e-16 -4.75127e-01]\n",
      "[ 2.66999e+00  6.53958e-16 -4.78491e-01]\n",
      "[ 2.66893980e+00  6.53700771e-16 -4.78373238e-01]\n",
      "\n",
      "0.06774330139160156 0.07443571090698242\n",
      "0.9100914140022933\n",
      "[ 2.75999e+00  6.76002e-16 -4.88585e-01]\n",
      "[ 2.78999e+00  6.83350e-16 -4.91949e-01]\n",
      "[ 2.78729274e+00  6.82689352e-16 -4.91646548e-01]\n",
      "\n",
      "0.06813907623291016 0.07681751251220703\n",
      "0.8870252889545494\n",
      "[ 2.87999e+00  7.05393e-16 -5.02043e-01]\n",
      "[ 2.90999e+00  7.12741e-16 -5.05407e-01]\n",
      "[ 2.90660076e+00  7.11910862e-16 -5.05026953e-01]\n",
      "\n",
      "0.0680398941040039 0.0756998062133789\n",
      "0.8988119984378347\n",
      "[ 2.99999e+00  7.34785e-16 -5.15501e-01]\n",
      "[ 3.02999e+00  7.42133e-16 -5.18865e-01]\n",
      "[ 3.02695436e+00  7.41389471e-16 -5.18524604e-01]\n",
      "\n",
      "0.06673979759216309 0.07330942153930664\n",
      "0.910384998146233\n",
      "[ 3.11999e+00  7.64177e-16 -5.28959e-01]\n",
      "[ 3.14999e+00  7.71525e-16 -5.32323e-01]\n",
      "[ 3.14730155e+00  7.70866509e-16 -5.32021535e-01]\n",
      "\n",
      "0.05626869201660156 0.05792498588562012\n",
      "0.9714062274906876\n",
      "[ 3.23999e+00  7.93569e-16 -5.42417e-01]\n",
      "[ 3.26999e+00  8.00917e-16 -5.45782e-01]\n",
      "[ 3.26913219e+00  8.00706893e-16 -5.45685782e-01]\n",
      "\n",
      "0.05908393859863281 0.06088995933532715\n",
      "0.9703395969317634\n",
      "[ 3.35999e+00  8.22960e-16 -5.55875e-01]\n",
      "[ 3.38999e+00  8.30308e-16 -5.59240e-01]\n",
      "[ 3.38910019e+00  8.30090055e-16 -5.59140193e-01]\n",
      "\n",
      "0.05633091926574707 0.058081626892089844\n",
      "0.96985780667619\n",
      "[ 3.47999e+00  8.52352e-16 -5.69333e-01]\n",
      "[ 3.50999e+00  8.59700e-16 -5.72698e-01]\n",
      "[ 3.50908573e+00  8.59478515e-16 -5.72596572e-01]\n",
      "\n",
      "0.06060791015625 0.06296086311340332\n",
      "0.9626283243144992\n",
      "[ 3.62999e+00  8.89092e-16 -5.86156e-01]\n",
      "[ 3.65999e+00  8.96440e-16 -5.89520e-01]\n",
      "[ 3.65886885e+00  8.96165393e-16 -5.89394282e-01]\n",
      "\n",
      "0.056046485900878906 0.05762457847595215\n",
      "0.9726142452264217\n",
      "[ 3.74999e+00  9.18483e-16 -5.99614e-01]\n",
      "[ 3.77999e+00  9.25831e-16 -6.00000e-01]\n",
      "[ 3.77916843e+00  9.25629769e-16 -5.99989429e-01]\n",
      "\n",
      "0.0559232234954834 0.057532548904418945\n",
      "0.9720275663153881\n",
      "[ 3.86999e+00  9.47875e-16 -6.00000e-01]\n",
      "[ 3.89999e+00  9.55223e-16 -6.00000e-01]\n",
      "[ 3.89915083e+00  9.55017459e-16 -6.00000000e-01]\n",
      "\n",
      "0.0679469108581543 0.0765080451965332\n",
      "0.8881015151231856\n",
      "[ 3.99000e+00  9.77267e-16 -6.00000e-01]\n",
      "[ 4.02000e+00  9.84615e-16 -6.00000e-01]\n",
      "[ 4.01664305e+00  9.83792770e-16 -6.00000000e-01]\n",
      "\n",
      "0.057653188705444336 0.05964040756225586\n",
      "0.9666799920047972\n",
      "[ 4.08000e+00  9.99311e-16 -6.00000e-01]\n",
      "[ 4.11000e+00  1.00666e-15 -6.00000e-01]\n",
      "[ 4.10900040e+00  1.00641513e-15 -6.00000000e-01]\n",
      "\n",
      "0.06047511100769043 0.06231975555419922\n",
      "0.9704003244219321\n",
      "[ 4.23000e+00  1.03605e-15 -6.00000e-01]\n",
      "[ 4.2600e+00  1.0434e-15 -6.0000e-01]\n",
      "[ 4.25911201e+00  1.04318244e-15 -6.00000000e-01]\n",
      "\n",
      "0.06842994689941406 0.07677078247070312\n",
      "0.8913540372670807\n",
      "[ 4.35000e+00  1.06544e-15 -6.00000e-01]\n",
      "[ 4.38000e+00  1.07279e-15 -6.00000e-01]\n",
      "[ 4.37674062e+00  1.07199145e-15 -6.00000000e-01]\n",
      "\n",
      "0.05597209930419922 0.05778074264526367\n",
      "0.9686981638126676\n",
      "[ 4.44000e+00  1.08749e-15 -6.00000e-01]\n",
      "[ 4.47000e+00  1.09483e-15 -6.00000e-01]\n",
      "[ 4.46906094e+00  1.09460024e-15 -6.00000000e-01]\n",
      "\n",
      "0.0688936710357666 0.07687878608703613\n",
      "0.8961337001051316\n",
      "[ 4.56000e+00  1.11688e-15 -6.00000e-01]\n",
      "[ 4.59000e+00  1.12423e-15 -6.00000e-01]\n",
      "[ 4.58688401e+00  1.12346658e-15 -6.00000000e-01]\n",
      "\n",
      "0.06925177574157715 0.07695388793945312\n",
      "0.8999126307440638\n",
      "[ 4.68000e+00  1.14627e-15 -6.00000e-01]\n",
      "[ 4.71000e+00  1.15362e-15 -6.00000e-01]\n",
      "[ 4.70699738e+00  1.15288436e-15 -6.00000000e-01]\n",
      "\n",
      "0.056653499603271484 0.059357404708862305\n",
      "0.9544470463482525\n",
      "[ 4.80000e+00  1.17566e-15 -6.00000e-01]\n",
      "[ 4.83000e+00  1.18301e-15 -6.00000e-01]\n",
      "[ 4.82863341e+00  1.18267519e-15 -6.00000000e-01]\n",
      "\n",
      "0.05685114860534668 0.058594703674316406\n",
      "0.9702438111358864\n",
      "[ 4.92000e+00  1.20505e-15 -6.00000e-01]\n",
      "[ 4.9500e+00  1.2124e-15 -6.0000e-01]\n",
      "[ 4.94910731e+00  1.21218129e-15 -6.00000000e-01]\n",
      "\n",
      "0.0712428092956543 0.07901239395141602\n",
      "0.9016662542772825\n",
      "[ 5.04000e+00  1.23444e-15 -6.11505e-01]\n",
      "[ 5.07000e+00  1.24179e-15 -6.19247e-01]\n",
      "[ 5.06704999e+00  1.24106725e-15 -6.18485700e-01]\n",
      "\n",
      "0.06839799880981445 0.07657098770141602\n",
      "0.8932625902192662\n",
      "[ 5.16000e+00  1.26384e-15 -6.42473e-01]\n",
      "[ 5.19000e+00  1.27118e-15 -6.50215e-01]\n",
      "[ 5.18679788e+00  1.27039655e-15 -6.49388639e-01]\n",
      "\n",
      "0.0569150447845459 0.059110403060913086\n",
      "0.96286003541365\n",
      "[ 5.28000e+00  1.29323e-15 -6.73441e-01]\n",
      "[ 5.31000e+00  1.30058e-15 -6.81183e-01]\n",
      "[ 5.30888580e+00  1.30030702e-15 -6.80895462e-01]\n",
      "\n",
      "0.06934237480163574 0.07820248603820801\n",
      "0.8867029466014238\n",
      "[ 5.40000e+00  1.32262e-15 -7.04409e-01]\n",
      "[ 5.43001e+00  1.32997e-15 -7.12151e-01]\n",
      "[ 5.42660996e+00  1.32913727e-15 -7.11273854e-01]\n",
      "\n",
      "0.056214094161987305 0.058206796646118164\n",
      "0.9657651236805564\n",
      "[ 5.52001e+00  1.35201e-15 -7.35377e-01]\n",
      "[ 5.55001e+00  1.35936e-15 -7.43119e-01]\n",
      "[ 5.54898295e+00  1.35910837e-15 -7.42853954e-01]\n",
      "\n",
      "0.06819820404052734 0.07613587379455566\n",
      "0.8957433682911783\n",
      "[ 5.64001e+00  1.38140e-15 -7.66345e-01]\n",
      "[ 5.67001e+00  1.38875e-15 -7.74087e-01]\n",
      "[ 5.66688230e+00  1.38798371e-15 -7.73279845e-01]\n",
      "\n",
      "0.06851840019226074 0.07593154907226562\n",
      "0.9023706355187139\n",
      "[ 5.76001e+00  1.41079e-15 -7.97313e-01]\n",
      "[ 5.79001e+00  1.41814e-15 -8.05055e-01]\n",
      "[ 5.78708112e+00  1.41742242e-15 -8.04299153e-01]\n",
      "\n",
      "0.06856536865234375 0.07618403434753418\n",
      "0.8999965575407071\n",
      "[ 5.88001e+00  1.44019e-15 -8.28281e-01]\n",
      "[ 5.91001e+00  1.44753e-15 -8.36023e-01]\n",
      "[ 5.90700990e+00  1.44679597e-15 -8.35248773e-01]\n",
      "\n",
      "0.06899857521057129 0.07683014869689941\n",
      "0.8980664020679661\n",
      "[ 6.00001e+00  1.46958e-15 -8.59249e-01]\n",
      "[ 6.03001e+00  1.47693e-15 -8.66991e-01]\n",
      "[ 6.02695199e+00  1.47618079e-15 -8.66201830e-01]\n",
      "\n",
      "0.0687105655670166 0.07609844207763672\n",
      "0.9029168494266558\n",
      "[ 6.12001e+00  1.49897e-15 -8.97100e-01]\n",
      "[ 6.15001e+00  1.50632e-15 -9.11218e-01]\n",
      "[ 6.14709751e+00  1.50560644e-15 -9.09847380e-01]\n",
      "\n",
      "0.06851887702941895 0.07642960548400879\n",
      "0.8964965420861032\n",
      "[ 6.24001e+00  1.52836e-15 -9.53571e-01]\n",
      "[ 6.27001e+00  1.53571e-15 -9.67688e-01]\n",
      "[ 6.26690490e+00  1.53494925e-15 -9.66226842e-01]\n",
      "\n",
      "0.06927919387817383 0.07755160331726074\n",
      "0.8933302590116056\n",
      "[ 6.36001e+00  1.55775e-15 -1.00388e+00]\n",
      "[ 6.39001e+00  1.56510e-15 -1.00933e+00]\n",
      "[ 6.38680991e+00  1.56431598e-15 -1.00874865e+00]\n",
      "\n",
      "0.05598330497741699 0.057617902755737305\n",
      "0.9716303839580911\n",
      "[ 6.48001e+00  1.58714e-15 -1.02570e+00]\n",
      "[ 6.51001e+00  1.59449e-15 -1.03115e+00]\n",
      "[ 6.50915891e+00  1.59428148e-15 -1.03099539e+00]\n",
      "\n",
      "0.056060075759887695 0.05803203582763672\n",
      "0.9660194573630672\n",
      "[ 6.57001e+00  1.60919e-15 -1.04206e+00]\n",
      "[ 6.60001e+00  1.61654e-15 -1.04752e+00]\n",
      "[ 6.59899058e+00  1.61629024e-15 -1.04733447e+00]\n",
      "\n",
      "0.055927276611328125 0.057505130767822266\n",
      "0.972561506505137\n",
      "[ 6.69001e+00  1.63858e-15 -1.06388e+00]\n",
      "[ 6.72001e+00  1.64593e-15 -1.06933e+00]\n",
      "[ 6.71918685e+00  1.64572833e-15 -1.06918046e+00]\n",
      "\n",
      "0.05608987808227539 0.05789375305175781\n",
      "0.9688416301518795\n",
      "[ 6.81001e+00  1.66797e-15 -1.08570e+00]\n",
      "[ 6.84001e+00  1.67532e-15 -1.09115e+00]\n",
      "[ 6.83907525e+00  1.67509099e-15 -1.09098019e+00]\n",
      "\n",
      "0.05657148361206055 0.0584263801574707\n",
      "0.9682524137143044\n",
      "[ 6.96001e+00  1.70471e-15 -1.11297e+00]\n",
      "[ 6.99001e+00  1.71206e-15 -1.11843e+00]\n",
      "[ 6.98905757e+00  1.71182666e-15 -1.11825666e+00]\n",
      "\n",
      "0.05619311332702637 0.05788230895996094\n",
      "0.970816719939368\n",
      "[ 7.05001e+00  1.72675e-15 -1.12933e+00]\n",
      "[ 7.05001e+00  1.72675e-15 -1.12933e+00]\n",
      "[ 7.05001e+00  1.72675e-15 -1.12933e+00]\n",
      "\n",
      "0.05605506896972656 0.05804705619812012\n",
      "0.9656832342781568\n",
      "[ 7.05001e+00  1.72675e-15 -1.12933e+00]\n",
      "[ 7.05001e+00  1.72675e-15 -1.12933e+00]\n",
      "[ 7.05001e+00  1.72675e-15 -1.12933e+00]\n",
      "\n",
      "0.056120872497558594 0.05779218673706055\n",
      "0.9710806194770584\n",
      "[ 7.05001e+00  1.72675e-15 -1.12933e+00]\n",
      "[ 7.05001e+00  1.72675e-15 -1.12933e+00]\n",
      "[ 7.05001e+00  1.72675e-15 -1.12933e+00]\n",
      "\n",
      "0.05624127388000488 0.05777287483215332\n",
      "0.9734892723168411\n",
      "[ 7.05001e+00  1.72675e-15 -1.12933e+00]\n",
      "[ 7.05001e+00  1.72675e-15 -1.12933e+00]\n",
      "[ 7.05001e+00  1.72675e-15 -1.12933e+00]\n",
      "\n",
      "0.05586433410644531 0.057401180267333984\n",
      "0.9732262271658678\n",
      "[ 7.05001e+00  1.72675e-15 -1.12933e+00]\n",
      "[ 7.05001e+00  1.72675e-15 -1.12933e+00]\n",
      "[ 7.05001e+00  1.72675e-15 -1.12933e+00]\n",
      "\n",
      "0.05604863166809082 0.05755114555358887\n",
      "0.9738925459946062\n",
      "[ 7.05001e+00  1.72675e-15 -1.12933e+00]\n",
      "[ 7.05001e+00  1.72675e-15 -1.12933e+00]\n",
      "[ 7.05001e+00  1.72675e-15 -1.12933e+00]\n",
      "\n",
      "0.05580472946166992 0.05740761756896973\n",
      "0.9720788255082334\n",
      "[ 7.05001e+00  1.72675e-15 -1.12933e+00]\n",
      "[ 7.05001e+00  1.72675e-15 -1.12933e+00]\n",
      "[ 7.05001e+00  1.72675e-15 -1.12933e+00]\n",
      "\n",
      "0.055692195892333984 0.057421207427978516\n",
      "0.969888972853572\n",
      "[ 7.05001e+00  1.72675e-15 -1.12933e+00]\n",
      "[ 7.05001e+00  1.72675e-15 -1.12933e+00]\n",
      "[ 7.05001e+00  1.72675e-15 -1.12933e+00]\n",
      "\n",
      "0.05700373649597168 0.058706045150756836\n",
      "0.9710028387977143\n",
      "[ 7.05001e+00  1.72675e-15 -1.12933e+00]\n",
      "[ 7.05001e+00  1.72675e-15 -1.12933e+00]\n",
      "[ 7.05001e+00  1.72675e-15 -1.12933e+00]\n",
      "\n",
      "0.056917428970336914 0.05874228477478027\n",
      "0.9689345449970168\n",
      "[ 7.05001e+00  1.72675e-15 -1.12933e+00]\n",
      "[ 7.05001e+00  1.72675e-15 -1.12933e+00]\n",
      "[ 7.05001e+00  1.72675e-15 -1.12933e+00]\n",
      "\n",
      "0.05664348602294922 0.05820918083190918\n",
      "0.9731022703535165\n",
      "[ 7.05001e+00  1.72675e-15 -1.12933e+00]\n",
      "[ 7.05001e+00  1.72675e-15 -1.12933e+00]\n",
      "[ 7.05001e+00  1.72675e-15 -1.12933e+00]\n",
      "\n",
      "0.05564689636230469 0.0571744441986084\n",
      "0.973282681489698\n",
      "[ 7.05001e+00  1.72675e-15 -1.12933e+00]\n",
      "[ 7.05001e+00  1.72675e-15 -1.12933e+00]\n",
      "[ 7.05001e+00  1.72675e-15 -1.12933e+00]\n",
      "\n",
      "0.0559077262878418 0.057764291763305664\n",
      "0.967859634061276\n",
      "[ 7.05001e+00  1.72675e-15 -1.12933e+00]\n",
      "[ 7.05001e+00  1.72675e-15 -1.12933e+00]\n",
      "[ 7.05001e+00  1.72675e-15 -1.12933e+00]\n",
      "\n",
      "0.05645179748535156 0.05824112892150879\n",
      "0.9692771848813456\n",
      "[ 7.05001e+00  1.72675e-15 -1.12933e+00]\n",
      "[ 7.05001e+00  1.72675e-15 -1.12933e+00]\n",
      "[ 7.05001e+00  1.72675e-15 -1.12933e+00]\n",
      "\n",
      "0.05672454833984375 0.058888912200927734\n",
      "0.9632466659649066\n",
      "[ 7.05001e+00  1.72675e-15 -1.12933e+00]\n",
      "[ 7.05001e+00  1.72675e-15 -1.12933e+00]\n",
      "[ 7.05001e+00  1.72675e-15 -1.12933e+00]\n",
      "\n",
      "0.0561676025390625 0.05791068077087402\n",
      "0.969900574322238\n",
      "[ 7.05001e+00  1.72675e-15 -1.12933e+00]\n",
      "[ 7.05001e+00  1.72675e-15 -1.12933e+00]\n",
      "[ 7.05001e+00  1.72675e-15 -1.12933e+00]\n",
      "\n",
      "0.0570378303527832 0.05893254280090332\n",
      "0.9678494706308333\n",
      "[ 7.05001e+00  1.72675e-15 -1.12933e+00]\n",
      "[ 7.07488    0.0167758 -1.13406  ]\n",
      "[ 7.07408042  0.01623645 -1.13390793]\n",
      "\n",
      "0.056235313415527344 0.057765960693359375\n",
      "0.9735026084659578\n",
      "[ 7.17436    0.0838792 -1.2      ]\n",
      "[ 7.19923   0.100655 -1.2     ]\n",
      "[ 7.19857101  0.10021049 -1.2       ]\n",
      "\n",
      "0.05703997611999512 0.05930519104003906\n",
      "0.9618041038175795\n",
      "[ 7.48582   0.474098 -1.2     ]\n",
      "[ 7.50542   0.495663 -1.2     ]\n",
      "[ 7.50467136  0.49483931 -1.2       ]\n",
      "\n",
      "0.05694699287414551 0.05858325958251953\n",
      "0.972069380911296\n",
      "[ 7.56423   0.560355 -1.2     ]\n",
      "[ 7.56423   0.560355 -1.2     ]\n",
      "[ 7.56423   0.560355 -1.2     ]\n",
      "\n",
      "0.05620288848876953 0.057939767837524414\n",
      "0.9700226733109206\n",
      "[ 7.56423   0.560355 -1.2     ]\n",
      "[ 7.56423   0.560355 -1.2     ]\n",
      "[ 7.56423   0.560355 -1.2     ]\n",
      "\n",
      "0.05648946762084961 0.05825543403625488\n",
      "0.9696858079487274\n",
      "[ 7.56423   0.560355 -1.2     ]\n",
      "[ 7.56423   0.560355 -1.2     ]\n",
      "[ 7.56423   0.560355 -1.2     ]\n",
      "\n",
      "0.05631303787231445 0.058016061782836914\n",
      "0.970645647805307\n",
      "[ 7.56423   0.560355 -1.2     ]\n",
      "[ 7.56423   0.560355 -1.2     ]\n",
      "[ 7.56423   0.560355 -1.2     ]\n",
      "\n",
      "0.05669212341308594 0.05833005905151367\n",
      "0.9719195271689814\n",
      "[ 7.56423   0.560355 -1.2     ]\n",
      "[ 7.56423   0.560355 -1.2     ]\n",
      "[ 7.56423   0.560355 -1.2     ]\n",
      "\n",
      "0.05642962455749512 0.05847287178039551\n",
      "0.965056492683066\n",
      "[ 7.56423   0.560355 -1.2     ]\n",
      "[ 7.56423   0.560355 -1.2     ]\n",
      "[ 7.56423   0.560355 -1.2     ]\n",
      "\n",
      "0.05640459060668945 0.057988882064819336\n",
      "0.9726793929850385\n",
      "[ 7.56423   0.560355 -1.2     ]\n",
      "[ 7.56423   0.560355 -1.2     ]\n",
      "[ 7.56423   0.560355 -1.2     ]\n",
      "\n",
      "0.05619168281555176 0.05791902542114258\n",
      "0.9701765940805993\n",
      "[ 7.56423   0.560355 -1.2     ]\n",
      "[ 7.56423   0.560355 -1.2     ]\n",
      "[ 7.56423   0.560355 -1.2     ]\n",
      "\n",
      "0.055982351303100586 0.057509422302246094\n",
      "0.9734465946967813\n",
      "[ 7.56423   0.560355 -1.2     ]\n",
      "[ 7.56423   0.560355 -1.2     ]\n",
      "[ 7.56423   0.560355 -1.2     ]\n",
      "\n",
      "0.056036949157714844 0.057924747467041016\n",
      "0.9674094684590498\n",
      "[ 7.56423   0.560355 -1.2     ]\n",
      "[ 7.56423   0.560355 -1.2     ]\n",
      "[ 7.56423   0.560355 -1.2     ]\n",
      "\n",
      "0.05646467208862305 0.058016061782836914\n",
      "0.9732593070515376\n",
      "[ 7.56423   0.560355 -1.2     ]\n",
      "[ 7.56423   0.560355 -1.2     ]\n",
      "[ 7.56423   0.560355 -1.2     ]\n",
      "\n",
      "0.05657672882080078 0.058351755142211914\n",
      "0.9695805838730107\n",
      "[ 7.56423   0.560355 -1.2     ]\n",
      "[ 7.56423   0.560355 -1.2     ]\n",
      "[ 7.56423   0.560355 -1.2     ]\n",
      "\n",
      "0.05652356147766113 0.058972835540771484\n",
      "0.9584677582373156\n",
      "[ 7.56423   0.560355 -1.2     ]\n",
      "[ 7.56423   0.560355 -1.2     ]\n",
      "[ 7.56423   0.560355 -1.2     ]\n",
      "\n",
      "0.05604839324951172 0.05760669708251953\n",
      "0.9729492591672875\n",
      "[ 7.56423   0.560355 -1.2     ]\n",
      "[ 7.56423   0.560355 -1.2     ]\n",
      "[ 7.56423   0.560355 -1.2     ]\n",
      "\n",
      "0.05659079551696777 0.05843186378479004\n",
      "0.968492049567286\n",
      "[ 7.56423   0.560355 -1.2     ]\n",
      "[ 7.56423   0.560355 -1.2     ]\n",
      "[ 7.56423   0.560355 -1.2     ]\n",
      "\n",
      "0.05730152130126953 0.0587766170501709\n",
      "0.9749033574415784\n",
      "[ 7.56423   0.560355 -1.2     ]\n",
      "[ 7.56423   0.560355 -1.2     ]\n",
      "[ 7.56423   0.560355 -1.2     ]\n",
      "\n",
      "0.05757737159729004 0.05933523178100586\n",
      "0.9703740908908265\n",
      "[ 7.56423   0.560355 -1.2     ]\n",
      "[ 7.56423   0.560355 -1.2     ]\n",
      "[ 7.56423   0.560355 -1.2     ]\n",
      "\n",
      "0.0576024055480957 0.059464454650878906\n",
      "0.9686863502958959\n",
      "[ 7.56423   0.560355 -1.2     ]\n",
      "[ 7.56423   0.560355 -1.2     ]\n",
      "[ 7.56423   0.560355 -1.2     ]\n",
      "\n",
      "0.056478023529052734 0.058252811431884766\n",
      "0.9695330086358613\n",
      "[ 7.56423   0.560355 -1.2     ]\n",
      "[ 7.5624    0.590299 -1.2     ]\n",
      "[ 7.56245575  0.5893867  -1.2       ]\n",
      "\n",
      "0.056322336196899414 0.05791187286376953\n",
      "0.9725524907369287\n",
      "[ 7.55691   0.680132 -1.2     ]\n",
      "[ 7.55508   0.710076 -1.2     ]\n",
      "[ 7.55513023  0.70925411 -1.2       ]\n",
      "\n",
      "0.05795860290527344 0.059693336486816406\n",
      "0.9709392424072979\n",
      "[ 7.54958   0.799908 -1.2     ]\n",
      "[ 7.54775   0.829852 -1.2     ]\n",
      "[ 7.54780318  0.8289818  -1.2       ]\n",
      "\n",
      "0.05647444725036621 0.05805158615112305\n",
      "0.9728321135506764\n",
      "[ 7.54226   0.919684 -1.2     ]\n",
      "[ 7.54042   0.949628 -1.2     ]\n",
      "[ 7.54046999  0.94881448 -1.2       ]\n",
      "\n",
      "0.057161569595336914 0.0587153434753418\n",
      "0.9735371746457141\n",
      "[ 7.54042   0.949628 -1.2     ]\n",
      "[ 7.54042   0.949628 -1.2     ]\n",
      "[ 7.54042   0.949628 -1.2     ]\n",
      "\n",
      "0.05636262893676758 0.05822563171386719\n",
      "0.9680037343990566\n",
      "[ 7.36326  1.41866 -1.2    ]\n",
      "[ 7.34598  1.43593 -1.2    ]\n",
      "[ 7.3465329   1.43537742 -1.2       ]\n",
      "\n",
      "0.05650019645690918 0.058399200439453125\n",
      "0.9674823633156967\n",
      "[ 7.30344  1.50006 -1.2    ]\n",
      "[ 7.29849  1.52965 -1.2    ]\n",
      "[ 7.29865096  1.5286878  -1.2       ]\n",
      "\n",
      "0.056639671325683594 0.0583646297454834\n",
      "0.9704451407072742\n",
      "[ 7.28363  1.61842 -1.2    ]\n",
      "[ 7.27868  1.64801 -1.2    ]\n",
      "[ 7.2788263   1.64713547 -1.2       ]\n",
      "\n",
      "0.07074165344238281 0.07841253280639648\n",
      "0.9021727893555822\n",
      "[ 7.26383  1.73677 -1.2    ]\n",
      "[ 7.25887  1.76636 -1.2    ]\n",
      "[ 7.25935522  1.76346529 -1.2       ]\n",
      "\n",
      "0.0582120418548584 0.05997872352600098\n",
      "0.9705448604557795\n",
      "[ 7.25392  1.79595 -1.2    ]\n",
      "[ 7.25392  1.79595 -1.2    ]\n",
      "[ 7.25392  1.79595 -1.2    ]\n",
      "\n",
      "0.057117462158203125 0.05885577201843262\n",
      "0.9704649212708469\n",
      "[ 7.25392  1.79595 -1.2    ]\n",
      "[ 7.25392  1.79595 -1.2    ]\n",
      "[ 7.25392  1.79595 -1.2    ]\n",
      "\n",
      "0.056555747985839844 0.05834054946899414\n",
      "0.9694071876353709\n",
      "[ 7.25392  1.79595 -1.2    ]\n",
      "[ 7.25392  1.79595 -1.2    ]\n",
      "[ 7.25392  1.79595 -1.2    ]\n",
      "\n"
     ]
    }
   ],
   "source": [
    "gt_positions_sync = []\n",
    "gt_rotations_sync = []\n",
    "for i in range(len(slam_timestamps)):\n",
    "    for j in range(1, len(gt_timestamps)):\n",
    "        if gt_timestamps[j] > slam_timestamps[i]:\n",
    "            break\n",
    "    print(slam_timestamps[i] - gt_timestamps[j - 1], gt_timestamps[j] - gt_timestamps[j - 1])\n",
    "    duration = gt_timestamps[j] - gt_timestamps[j - 1]\n",
    "    alpha = (slam_timestamps[i] - gt_timestamps[j - 1]) / duration\n",
    "    print(alpha)\n",
    "    position = alpha * gt_positions[j] + (1 - alpha) * gt_positions[j - 1]\n",
    "    rotation = alpha * gt_rotations[j] + (1 - alpha) * gt_rotations[j - 1]\n",
    "    print(gt_positions[j - 1])\n",
    "    print(gt_positions[j])\n",
    "    print(position)\n",
    "    print()\n",
    "    gt_positions_sync.append(position)\n",
    "    gt_rotations_sync.append(rotation)"
   ]
  },
  {
   "cell_type": "code",
   "execution_count": 72,
   "metadata": {},
   "outputs": [],
   "source": [
    "gt_positions_sync = np.array(gt_positions_sync)\n",
    "gt_rotations_sync = np.array(gt_rotations_sync)"
   ]
  },
  {
   "cell_type": "code",
   "execution_count": 73,
   "metadata": {},
   "outputs": [
    {
     "data": {
      "text/plain": [
       "<matplotlib.collections.PathCollection at 0x7f325ce97bd0>"
      ]
     },
     "execution_count": 73,
     "metadata": {},
     "output_type": "execute_result"
    },
    {
     "data": {
      "image/png": "[encoded data removed]",
      "text/plain": [
       "<Figure size 432x288 with 1 Axes>"
      ]
     },
     "metadata": {
      "needs_background": "light"
     },
     "output_type": "display_data"
    }
   ],
   "source": [
    "plt.scatter(gt_positions[:, 0], gt_positions[:, 1])"
   ]
  },
  {
   "cell_type": "code",
   "execution_count": 74,
   "metadata": {},
   "outputs": [
    {
     "data": {
      "text/plain": [
       "<matplotlib.collections.PathCollection at 0x7f325d37e1d0>"
      ]
     },
     "execution_count": 74,
     "metadata": {},
     "output_type": "execute_result"
    },
    {
     "data": {
      "image/png": "[encoded data removed]",
      "text/plain": [
       "<Figure size 432x288 with 1 Axes>"
      ]
     },
     "metadata": {
      "needs_background": "light"
     },
     "output_type": "display_data"
    }
   ],
   "source": [
    "plt.scatter(gt_timestamps, gt_positions[:, 0])\n",
    "plt.scatter(slam_timestamps, slam_positions[:, 0])"
   ]
  },
  {
   "cell_type": "code",
   "execution_count": 75,
   "metadata": {},
   "outputs": [
    {
     "data": {
      "text/plain": [
       "<matplotlib.collections.PathCollection at 0x7f325ce07650>"
      ]
     },
     "execution_count": 75,
     "metadata": {},
     "output_type": "execute_result"
    },
    {
     "data": {
      "image/png": "[encoded data removed]",
      "text/plain": [
       "<Figure size 432x288 with 1 Axes>"
      ]
     },
     "metadata": {
      "needs_background": "light"
     },
     "output_type": "display_data"
    }
   ],
   "source": [
    "plt.scatter(gt_timestamps, gt_positions[:, 1])\n",
    "plt.scatter(slam_timestamps, slam_positions[:, 1])"
   ]
  },
  {
   "cell_type": "code",
   "execution_count": 76,
   "metadata": {},
   "outputs": [
    {
     "data": {
      "text/plain": [
       "<matplotlib.collections.PathCollection at 0x7f325cdfc450>"
      ]
     },
     "execution_count": 76,
     "metadata": {},
     "output_type": "execute_result"
    },
    {
     "data": {
      "image/png": "[encoded data removed]",
      "text/plain": [
       "<Figure size 432x288 with 1 Axes>"
      ]
     },
     "metadata": {
      "needs_background": "light"
     },
     "output_type": "display_data"
    }
   ],
   "source": [
    "plt.scatter(gt_positions_sync[:, 0] - slam_positions[:, 0], gt_positions_sync[:, 1] - slam_positions[:, 1])"
   ]
  },
  {
   "cell_type": "code",
   "execution_count": 77,
   "metadata": {
    "scrolled": false
   },
   "outputs": [
    {
     "data": {
      "text/plain": [
       "[<matplotlib.lines.Line2D at 0x7f325cd1f4d0>]"
      ]
     },
     "execution_count": 77,
     "metadata": {},
     "output_type": "execute_result"
    },
    {
     "data": {
      "image/png": "[encoded data removed]",
      "text/plain": [
       "<Figure size 432x288 with 1 Axes>"
      ]
     },
     "metadata": {
      "needs_background": "light"
     },
     "output_type": "display_data"
    }
   ],
   "source": [
    "plt.plot(gt_positions_sync[:, 0], gt_positions_sync[:, 1])\n",
    "plt.plot(slam_positions[:, 0], slam_positions[:, 1])"
   ]
  },
  {
   "cell_type": "code",
   "execution_count": 78,
   "metadata": {},
   "outputs": [
    {
     "name": "stdout",
     "output_type": "stream",
     "text": [
      "0.033928035831320924\n"
     ]
    }
   ],
   "source": [
    "print(np.sum((gt_positions_sync - slam_positions) ** 2, axis=1).mean())"
   ]
  },
  {
   "cell_type": "code",
   "execution_count": 79,
   "metadata": {
    "scrolled": true
   },
   "outputs": [],
   "source": [
    "slam_rotations_sxyz = slam_rotations.copy()\n",
    "slam_rotations_sxyz[:, 0] = slam_rotations[:, 3]\n",
    "slam_rotations_sxyz[:, 1] = slam_rotations[:, 0]\n",
    "slam_rotations_sxyz[:, 2] = slam_rotations[:, 1]\n",
    "slam_rotations_sxyz[:, 3] = slam_rotations[:, 2]"
   ]
  },
  {
   "cell_type": "code",
   "execution_count": 80,
   "metadata": {},
   "outputs": [],
   "source": [
    "gt_rotations_sxyz = gt_rotations_sync.copy()\n",
    "gt_rotations_sxyz[:, 0] = gt_rotations_sync[:, 3]\n",
    "gt_rotations_sxyz[:, 1] = gt_rotations_sync[:, 0]\n",
    "gt_rotations_sxyz[:, 2] = gt_rotations_sync[:, 1]\n",
    "gt_rotations_sxyz[:, 3] = gt_rotations_sync[:, 2]"
   ]
  },
  {
   "cell_type": "code",
   "execution_count": 81,
   "metadata": {},
   "outputs": [],
   "source": [
    "slam_orientations = np.array([tf.euler_from_quaternion(q, axes='sxyz') for q in slam_rotations_sxyz])\n",
    "gt_orientations = np.array([tf.euler_from_quaternion(q, axes='sxyz') for q in gt_rotations_sxyz])"
   ]
  },
  {
   "cell_type": "code",
   "execution_count": 82,
   "metadata": {},
   "outputs": [],
   "source": [
    "slam_poses = np.hstack([slam_positions, slam_orientations])\n",
    "gt_poses = np.hstack([gt_positions_sync, gt_orientations])"
   ]
  },
  {
   "cell_type": "code",
   "execution_count": 83,
   "metadata": {},
   "outputs": [
    {
     "name": "stdout",
     "output_type": "stream",
     "text": [
      "(110, 6) (110, 6)\n"
     ]
    }
   ],
   "source": [
    "print(slam_poses.shape, gt_poses.shape)"
   ]
  },
  {
   "cell_type": "code",
   "execution_count": 84,
   "metadata": {},
   "outputs": [],
   "source": [
    "np.savetxt('rtabmap_kinect/slam_poses.txt', slam_poses)\n",
    "np.savetxt('rtabmap_kinect/gt_poses.txt', gt_poses)"
   ]
  },
  {
   "cell_type": "code",
   "execution_count": 17,
   "metadata": {},
   "outputs": [
    {
     "data": {
      "text/plain": [
       "<matplotlib.collections.PathCollection at 0x7f2d783f7690>"
      ]
     },
     "execution_count": 17,
     "metadata": {},
     "output_type": "execute_result"
    },
    {
     "data": {
      "image/png": "[encoded data removed]",
      "text/plain": [
       "<Figure size 432x288 with 1 Axes>"
      ]
     },
     "metadata": {
      "needs_background": "light"
     },
     "output_type": "display_data"
    }
   ],
   "source": [
    "gt_points = np.loadtxt('groundtruth/points.txt')\n",
    "plt.scatter(gt_points[::10, 0], gt_points[::10, 1], alpha=0.1)"
   ]
  },
  {
   "cell_type": "code",
   "execution_count": null,
   "metadata": {},
   "outputs": [],
   "source": []
  }
 ],
 "metadata": {
  "kernelspec": {
   "display_name": "Python 3",
   "language": "python",
   "name": "python3"
  },
  "language_info": {
   "codemirror_mode": {
    "name": "ipython",
    "version": 3
   },
   "file_extension": ".py",
   "mimetype": "text/x-python",
   "name": "python",
   "nbconvert_exporter": "python",
   "pygments_lexer": "ipython3",
   "version": "3.7.4"
  }
 },
 "nbformat": 4,
 "nbformat_minor": 2
}
